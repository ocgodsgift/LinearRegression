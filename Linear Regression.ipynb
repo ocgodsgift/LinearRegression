{
 "cells": [
  {
   "cell_type": "markdown",
   "metadata": {},
   "source": [
    "Concept of Linear Regression:\n",
    "\n",
    "**1. Dependent and Independent Variables:** In linear regression, you have a dependent variable (the variable you want to predict) and one or more independent variables (the variables used to make predictions).\n",
    "\n",
    "**2. The Linear Equation:** Linear regression assumes a linear relationship between the independent and dependent variables. This relationship is expressed as a linear equation: `y = mx + b`, where:\n",
    "   - `y` is the dependent variable.\n",
    "   - `x` is the independent variable.\n",
    "   - `m` is the slope or coefficient, representing the impact of the independent variable on the dependent variable.\n",
    "   - `b` is the y-intercept, which is the value of `y` when `x` is 0.\n",
    "\n",
    "**3. Objective:** The main goal of linear regression is to find the best-fitting line (the values of `m` and `b`) that minimizes the difference between the actual values and the predicted values. This difference is often measured using a loss function, like Mean Squared Error (MSE) or Mean Absolute Error (MAE).\n",
    "\n",
    "**4. Training the Model:** To find the optimal values for `m` and `b`, the model is trained on a dataset with known values of the independent and dependent variables. The model adjusts its parameters to minimize the loss function.\n",
    "\n",
    "**5. Making Predictions:** Once the model is trained, you can use it to make predictions. You input the value(s) of the independent variable(s) into the linear equation, and the model provides you with the predicted value of the dependent variable.\n",
    "\n",
    "**6. Residuals:** Residuals are the differences between the actual values and the predicted values. Linear regression aims to minimize these residuals, and a good-fitting model will have small residuals.\n",
    "\n",
    "**7. Types of Linear Regression:**\n",
    "   - **Simple Linear Regression:** Involves one independent variable.\n",
    "   - **Multiple Linear Regression:** Involves multiple independent variables.\n",
    "   - **Polynomial Regression:** Allows for non-linear relationships by using polynomial equations.\n",
    "\n",
    "**8. Applications:** Linear regression is widely used in various fields, such as economics (predicting sales based on advertising spending), healthcare (predicting patient outcomes based on medical data), and many other areas where understanding relationships between variables is important.\n",
    "\n",
    "**9. Assumptions:** Linear regression assumes that the relationship between variables is indeed linear, that there's no multicollinearity (high correlation between independent variables), and that the residuals are normally distributed.\n",
    "\n",
    "**10. Evaluation:** Common metrics to evaluate a linear regression model's performance include R-squared (coefficient of determination) and various error metrics (MSE, MAE).\n",
    "\n",
    "Linear regression is a fundamental statistical and machine learning technique that serves as a building block for more advanced modeling methods. It provides valuable insights and predictions when you need to understand or model the relationship between variables."
   ]
  },
  {
   "cell_type": "markdown",
   "metadata": {},
   "source": [
    "**Implementation**"
   ]
  },
  {
   "cell_type": "code",
   "execution_count": 23,
   "metadata": {},
   "outputs": [],
   "source": [
    "# Impotation of Libraries\n",
    "import numpy as np\n",
    "import pandas as pd\n",
    "import matplotlib.pyplot as plt\n",
    "import seaborn as sns"
   ]
  },
  {
   "cell_type": "code",
   "execution_count": 24,
   "metadata": {},
   "outputs": [],
   "source": [
    "# Sample housing data\n",
    "data = {\n",
    "    'SquareFeet': [1400, 1600, 1700, 1875, 1100, 1550, 2350, 2450, 1425, 1700],\n",
    "    'Price': [245000, 312000, 279000, 308000, 199000, 219000, 405000, 324000, 319000, 255000]\n",
    "}"
   ]
  },
  {
   "cell_type": "code",
   "execution_count": 25,
   "metadata": {},
   "outputs": [],
   "source": [
    "# Create a DataFrame from the data\n",
    "df = pd.DataFrame(data)"
   ]
  },
  {
   "cell_type": "code",
   "execution_count": 26,
   "metadata": {},
   "outputs": [
    {
     "data": {
      "text/html": [
       "<div>\n",
       "<style scoped>\n",
       "    .dataframe tbody tr th:only-of-type {\n",
       "        vertical-align: middle;\n",
       "    }\n",
       "\n",
       "    .dataframe tbody tr th {\n",
       "        vertical-align: top;\n",
       "    }\n",
       "\n",
       "    .dataframe thead th {\n",
       "        text-align: right;\n",
       "    }\n",
       "</style>\n",
       "<table border=\"1\" class=\"dataframe\">\n",
       "  <thead>\n",
       "    <tr style=\"text-align: right;\">\n",
       "      <th></th>\n",
       "      <th>SquareFeet</th>\n",
       "      <th>Price</th>\n",
       "    </tr>\n",
       "  </thead>\n",
       "  <tbody>\n",
       "    <tr>\n",
       "      <th>min</th>\n",
       "      <td>1100</td>\n",
       "      <td>199000</td>\n",
       "    </tr>\n",
       "    <tr>\n",
       "      <th>max</th>\n",
       "      <td>2450</td>\n",
       "      <td>405000</td>\n",
       "    </tr>\n",
       "  </tbody>\n",
       "</table>\n",
       "</div>"
      ],
      "text/plain": [
       "     SquareFeet   Price\n",
       "min        1100  199000\n",
       "max        2450  405000"
      ]
     },
     "execution_count": 26,
     "metadata": {},
     "output_type": "execute_result"
    }
   ],
   "source": [
    "df[['SquareFeet','Price']].agg(['min','max'])"
   ]
  },
  {
   "cell_type": "markdown",
   "metadata": {},
   "source": [
    "Features"
   ]
  },
  {
   "cell_type": "code",
   "execution_count": 27,
   "metadata": {},
   "outputs": [],
   "source": [
    "# Independent variable (Square footage)\n",
    "X = df[['SquareFeet']].values"
   ]
  },
  {
   "cell_type": "code",
   "execution_count": 28,
   "metadata": {},
   "outputs": [],
   "source": [
    "# Dependent variable (Price)\n",
    "y = df['Price'].values"
   ]
  },
  {
   "cell_type": "code",
   "execution_count": 29,
   "metadata": {},
   "outputs": [],
   "source": [
    "from sklearn.model_selection import train_test_split\n",
    "from sklearn.linear_model import LinearRegression"
   ]
  },
  {
   "cell_type": "code",
   "execution_count": 40,
   "metadata": {},
   "outputs": [],
   "source": [
    "# Split the data into training and testing sets\n",
    "X_train, X_test, y_train, y_test = train_test_split(X, y, test_size=0.20, random_state=2)"
   ]
  },
  {
   "cell_type": "code",
   "execution_count": 41,
   "metadata": {},
   "outputs": [],
   "source": [
    "# Create a linear regression model\n",
    "lr = LinearRegression(fit_intercept=False)"
   ]
  },
  {
   "cell_type": "code",
   "execution_count": 42,
   "metadata": {},
   "outputs": [],
   "source": [
    "# Fit the model to the training data\n",
    "model = lr.fit(X_train, y_train)\n",
    "\n",
    "# Make predictions on the test data\n",
    "y_pred = model.predict(X_test)"
   ]
  },
  {
   "cell_type": "code",
   "execution_count": 43,
   "metadata": {},
   "outputs": [],
   "source": [
    "# Make predictions on the test data\n",
    "y_pred = model.predict(X_test)"
   ]
  },
  {
   "cell_type": "code",
   "execution_count": 44,
   "metadata": {},
   "outputs": [
    {
     "name": "stdout",
     "output_type": "stream",
     "text": [
      "Coefficient: 160.502503330118\n",
      "Intercept: 0.0\n"
     ]
    }
   ],
   "source": [
    "# Print the coefficients and intercept\n",
    "print(\"Coefficient:\", model.coef_[0])\n",
    "print(\"Intercept:\", model.intercept_)"
   ]
  },
  {
   "cell_type": "code",
   "execution_count": 45,
   "metadata": {},
   "outputs": [
    {
     "name": "stdout",
     "output_type": "stream",
     "text": [
      "Predictions on Test Data: [176552.75366313 256804.00532819]\n"
     ]
    }
   ],
   "source": [
    "# Predictions on the test data\n",
    "print(\"Predictions on Test Data:\", y_pred)"
   ]
  },
  {
   "cell_type": "code",
   "execution_count": 46,
   "metadata": {},
   "outputs": [
    {
     "data": {
      "image/png": "[encoded data removed]",
      "text/plain": [
       "<Figure size 600x500 with 1 Axes>"
      ]
     },
     "metadata": {},
     "output_type": "display_data"
    }
   ],
   "source": [
    "# Plot the training data and regression line\n",
    "plt.figure(figsize=(6,5))\n",
    "plt.scatter(X_train, y_train, color='black', label='Training Data')\n",
    "plt.plot(X_train, model.predict(X_train), linewidth=1, label='Regression Line')\n",
    "plt.xlabel('Square Footage')\n",
    "plt.ylabel('Price')\n",
    "plt.legend()\n",
    "plt.show()"
   ]
  },
  {
   "cell_type": "markdown",
   "metadata": {},
   "source": [
    "New Price Prediction"
   ]
  },
  {
   "cell_type": "code",
   "execution_count": 48,
   "metadata": {},
   "outputs": [
    {
     "name": "stdout",
     "output_type": "stream",
     "text": [
      "price: [     0.  417306.5]\n"
     ]
    }
   ],
   "source": [
    "newP = model.predict(pd.DataFrame([0,2600]))\n",
    "print(f'price: {np.round(newP,1)}')"
   ]
  }
 ],
 "metadata": {
  "kernelspec": {
   "display_name": "Python 3",
   "language": "python",
   "name": "python3"
  },
  "language_info": {
   "codemirror_mode": {
    "name": "ipython",
    "version": 3
   },
   "file_extension": ".py",
   "mimetype": "text/x-python",
   "name": "python",
   "nbconvert_exporter": "python",
   "pygments_lexer": "ipython3",
   "version": "3.11.6"
  }
 },
 "nbformat": 4,
 "nbformat_minor": 2
}
